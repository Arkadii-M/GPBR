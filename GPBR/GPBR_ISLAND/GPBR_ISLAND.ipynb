{
 "cells": [
  {
   "cell_type": "code",
   "execution_count": 1,
   "id": "f52fb21f",
   "metadata": {},
   "outputs": [],
   "source": [
    "import operator\n",
    "import math\n",
    "import random\n",
    "\n",
    "import numpy as np\n",
    "from scipy import linalg\n",
    "\n",
    "from deap import algorithms\n",
    "from deap import base\n",
    "from deap import creator\n",
    "from deap import tools\n",
    "from deap import gp"
   ]
  },
  {
   "cell_type": "markdown",
   "id": "f4eab755",
   "metadata": {},
   "source": [
    "# General configuration"
   ]
  },
  {
   "cell_type": "code",
   "execution_count": null,
   "id": "db912608",
   "metadata": {},
   "outputs": [],
   "source": [
    "DIM_2D = True # 2D - True, 3D - False"
   ]
  },
  {
   "cell_type": "code",
   "execution_count": null,
   "id": "0174a0e7",
   "metadata": {},
   "outputs": [],
   "source": [
    "N = 256 # number of collocation points to calculate boundary data\n",
    "Nstep = 4 # specify division step.\n",
    "assert N % Nstep == 0"
   ]
  },
  {
   "cell_type": "code",
   "execution_count": null,
   "id": "5dafcbcd",
   "metadata": {},
   "outputs": [],
   "source": [
    "G1_DIRICHLET_COND = BoundaryCondition(lambda X: np.zeros(shape=(X.shape[1],1), dtype=float)) ## Dirichlet condition\n",
    "G2_NEUMAN_COND = BoundaryCondition(lambda X: np.ones(shape=(X.shape[1],1), dtype=float)*3) ## Neuman condition"
   ]
  },
  {
   "cell_type": "code",
   "execution_count": null,
   "id": "08a63668",
   "metadata": {},
   "outputs": [],
   "source": [
    "EXTERIOR_BOUNDARY_RADIUS = 5"
   ]
  },
  {
   "cell_type": "code",
   "execution_count": null,
   "id": "3dcbc594",
   "metadata": {},
   "outputs": [],
   "source": [
    "EPS = 1e-15"
   ]
  },
  {
   "cell_type": "code",
   "execution_count": null,
   "id": "a4ccce4e",
   "metadata": {},
   "outputs": [],
   "source": [
    "RAND_CONST_MIN = -10\n",
    "RAND_CONST_MAX = 10"
   ]
  },
  {
   "cell_type": "code",
   "execution_count": null,
   "id": "f0d63f10",
   "metadata": {},
   "outputs": [],
   "source": [
    "NUM_ISLANDS = 3\n",
    "POP_SIZE = 100"
   ]
  },
  {
   "cell_type": "code",
   "execution_count": null,
   "id": "361f4b06",
   "metadata": {},
   "outputs": [],
   "source": [
    "NOISE_LEVEL = 0.02 # 2% of noise\n",
    "# TODO: add noise to boundary data"
   ]
  },
  {
   "cell_type": "markdown",
   "id": "cc7aebf9",
   "metadata": {},
   "source": [
    "### Radial function for interior boundary"
   ]
  },
  {
   "cell_type": "code",
   "execution_count": null,
   "id": "455f6505",
   "metadata": {},
   "outputs": [],
   "source": [
    "if DIM_2D:\n",
    "    R_EXACT = lambda t: 2 + math.sin(t)*(0.1 + math.cos(3*t))\n",
    "#     R_EXACT = lambda t: 2*math.sqrt(math.cos(t)**2 + math.sin(t)**2/4)\n",
    "else:\n",
    "    R_EXACT = lambda theta, phi: 2 +  math.sqrt(4.25 + 3*math.cos(3*theta))\n",
    "#     R_EXACT = lambda theta, phi: 2*math.sqrt(math.cos(2*theta)+ math.sqrt(2 - math.sin(2*theta)**2))\n",
    "\n",
    "R_EXACT = np.vectorize(R_EXACT)"
   ]
  },
  {
   "cell_type": "code",
   "execution_count": null,
   "id": "37872528",
   "metadata": {},
   "outputs": [],
   "source": [
    "if DIM_2D:\n",
    "    collocation = Collocation2D(N)\n",
    "    \n",
    "    G2_BOUNDARY = Circle(collocation, EXTERIOR_BOUNDARY_RADIUS)\n",
    "    G2_VALUES = G2_BOUNDARY()\n",
    "    G1_BOUNDARY = StarLikeCurve(collocation)\n",
    "    G1_VALUES = G1_BOUNDARY(R_EXACT(collocation.thetas)) # Values in collocation points\n",
    "    \n",
    "    HELPER = MFSHelper2D(collocation, G2_BOUNDARY, G1_DIRICHLET_COND, G2_NEUMAN_COND)\n",
    "else:\n",
    "    collocation = Collocation3D(N)\n",
    "    \n",
    "    G2_BOUNDARY = Sphere(collocation, EXTERIOR_BOUNDARY_RADIUS)\n",
    "    G2_VALUES = G2_BOUNDARY()\n",
    "    G1_BOUNDARY = StarLikeSurface(collocation)\n",
    "    G1_VALUES = G1_BOUNDARY(R_EXACT(collocation.thetas, collocation.phis)) # Values in collocation points\n",
    "    \n",
    "    HELPER = MFSHelper3D(collocation, G2_BOUNDARY, G1_DIRICHLET_COND, G2_NEUMAN_COND)"
   ]
  },
  {
   "cell_type": "markdown",
   "id": "22d3396d",
   "metadata": {},
   "source": [
    "## Find the Dirichlet data on Gamma2"
   ]
  },
  {
   "cell_type": "code",
   "execution_count": null,
   "id": "14a1bf77",
   "metadata": {},
   "outputs": [],
   "source": [
    "A = HELPER.form_matrix(G1_VALUES.copy()) # A = (2NxN)\n",
    "b = HELPER.form_column(G1_VALUES.copy())\n",
    "lambda_ = linalg.lstsq(A,b)[0]"
   ]
  },
  {
   "cell_type": "code",
   "execution_count": null,
   "id": "14147bb4",
   "metadata": {},
   "outputs": [],
   "source": [
    "G2_DIRICHLET_VALUES = HELPER.uApprox(lambda_, G2_VALUES.copy(), G1_VALUES.copy())"
   ]
  },
  {
   "cell_type": "markdown",
   "id": "65b01a79",
   "metadata": {},
   "source": [
    "## Recalculate data"
   ]
  },
  {
   "cell_type": "code",
   "execution_count": null,
   "id": "a2ac06d7",
   "metadata": {},
   "outputs": [],
   "source": [
    "N = int(N/Nstep)"
   ]
  },
  {
   "cell_type": "code",
   "execution_count": null,
   "id": "33410faf",
   "metadata": {},
   "outputs": [],
   "source": [
    "if DIM_2D:\n",
    "    collocation = Collocation2D(N)\n",
    "    G2_BOUNDARY = Circle(collocation, EXTERIOR_BOUNDARY_RADIUS)\n",
    "    G2_VALUES = G2_BOUNDARY()\n",
    "    G1_BOUNDARY = StarLikeCurve(collocation)\n",
    "    G1_VALUES = G1_BOUNDARY(R_EXACT(collocation.thetas)) # Values in collocation points\n",
    "    HELPER = MFSHelper2D(collocation, G2_BOUNDARY, G1_DIRICHLET_COND, G2_NEUMAN_COND)\n",
    "    G2_DIRICHLET_VALUES = G2_DIRICHLET_VALUES[0:len(G2_DIRICHLET_VALUES)-1:Nstep]\n",
    "else:\n",
    "    collocation = Collocation3D(N)\n",
    "    G2_BOUNDARY = Sphere(collocation, EXTERIOR_BOUNDARY_RADIUS)\n",
    "    G2_VALUES = G2_BOUNDARY()\n",
    "    G1_BOUNDARY = StarLikeSurface(collocation)\n",
    "    G1_VALUES = G1_BOUNDARY(R_EXACT(collocation.thetas, collocation.phis)) # Values in collocation points\n",
    "    HELPER = MFSHelper3D(collocation, G2_BOUNDARY, G1_DIRICHLET_COND, G2_NEUMAN_COND)\n",
    "    G2_DIRICHLET_VALUES = G2_DIRICHLET_VALUES[0:len(G2_DIRICHLET_VALUES)-1:Nstep]"
   ]
  },
  {
   "cell_type": "markdown",
   "id": "5f7aec8a",
   "metadata": {},
   "source": [
    "# Evaluation"
   ]
  },
  {
   "cell_type": "code",
   "execution_count": null,
   "id": "5054fd44",
   "metadata": {},
   "outputs": [],
   "source": [
    "def feasible2D(individual, thetas, curvature_threshold):\n",
    "    \"\"\"Feasibility function for the individual. Returns True if feasible False\n",
    "    otherwise.\"\"\"\n",
    "    ## evaluate function values\n",
    "    func_vect = np.vectorize(toolbox.compile(expr=individual))\n",
    "    \n",
    "    try:\n",
    "#         f_vals = func_vect(thetas)*individual.scale\n",
    "        f_vals = func_vect(thetas)\n",
    "    except Exception as e:\n",
    "        return False\n",
    "    \n",
    "    ## Save calculated values to evaluate the error or distance\n",
    "    individual.eval_values = f_vals[:-1]\n",
    "    \n",
    "    ## Check if all values are finite\n",
    "    if not np.isfinite(f_vals).all():\n",
    "        return False\n",
    "    \n",
    "    ## Singular boundary\n",
    "    if (abs(f_vals) < EPS).all(): \n",
    "        return False\n",
    "    \n",
    "    ## Interior boundary has to be inside outter boundary\n",
    "    if not (abs(f_vals) < EXTERIOR_BOUNDARY_RADIUS).all():\n",
    "        return False\n",
    "    \n",
    "    ## Check if function is periodic\n",
    "    if abs(f_vals[0] - f_vals[-1]) > EPS:\n",
    "        return False\n",
    "    \n",
    "    return True"
   ]
  },
  {
   "cell_type": "code",
   "execution_count": null,
   "id": "9a08eb70",
   "metadata": {},
   "outputs": [],
   "source": [
    "def eval2D(individual):    \n",
    "    g1_approx_values = G1_BOUNDARY(individual.eval_values)\n",
    "\n",
    "    A =HELPER.form_matrix(g1_approx_values.copy())\n",
    "    b = HELPER.form_column(g1_approx_values.copy())\n",
    "    \n",
    "    try: # Sometimes got an error about zero division in log in formulas. Need to check if there is any error\n",
    "        lambda_ = linalg.lstsq(A,b)[0]\n",
    "    except:\n",
    "        print(f\"F:{individual},  vals: \",individual.eval_values)\n",
    "        return 1e9,\n",
    "    \n",
    "    g2_dirichlet_approx = HELPER.uApprox(lambda_,HELPER.g2_coll,g1_approx_values)\n",
    "    individual.error_values = G2_DIRICHLET_VALUES-g2_dirichlet_approx\n",
    "\n",
    "#     individual.last_fitness = np.sum((G2_DIRICHLET_VALUES-g2_dirichlet_approx)**2)/N ## MSE error\n",
    "    individual.last_fitness = np.sqrt((2*np.pi/N)*np.sum((G2_DIRICHLET_VALUES-g2_dirichlet_approx)**2)) ## L2 norm\n",
    "    \n",
    "    return individual.last_fitness,"
   ]
  },
  {
   "cell_type": "code",
   "execution_count": null,
   "id": "c38ec6f5",
   "metadata": {},
   "outputs": [],
   "source": [
    "def feasible3D(individual, thetas, phis):\n",
    "    \"\"\"\n",
    "    Feasibility function for the individual. Returns True if feasible False\n",
    "    otherwise.\n",
    "    \n",
    "    thetas has shape (NxN) and next structure:\n",
    "    \n",
    "    t0  t1  t1  ...  tn\n",
    "    t0  t1  t1  ...  tn\n",
    "     .   .   .  ...  .\n",
    "    t0  t1  t1  ...  tn\n",
    "    \n",
    "    phis has shape (NxN) and next structure:\n",
    "    \n",
    "    p0  p0  p0  ...  p0\n",
    "    p1  p1  p1  ...  p1\n",
    "     .   .   .  ...  .\n",
    "    pn  pn  pn  ...  pn\n",
    "    \n",
    "    \n",
    "    \"\"\"    \n",
    "    # Evaluate function values\n",
    "    func_vect = np.vectorize(toolbox.compile(expr=individual))\n",
    "\n",
    "    try:\n",
    "#         f_vals = func_vect(theta = thetas,phi = phis)*individual.scale\n",
    "        f_vals = func_vect(theta = thetas,phi = phis)\n",
    "    except:\n",
    "        return False\n",
    "    \n",
    "    # Save calculated values to evaluate the error or distance\n",
    "    individual.eval_values = f_vals\n",
    "    \n",
    "    # Check if all values are finite\n",
    "    if not np.isfinite(f_vals).all():\n",
    "        return False\n",
    "    \n",
    "    # Check for singular surface\n",
    "    if (abs(f_vals) < EPS).all():\n",
    "        return False\n",
    "    \n",
    "    # Interior boundary has to be inside outter boundary\n",
    "    if not (abs(f_vals) < EXTERIOR_BOUNDARY_RADIUS).all():\n",
    "        return False\n",
    "    \n",
    "    # Check if surface is closed\n",
    "    \n",
    "    # r(0,phi_1) = r(0,phi_2) = ... = r(0, phi_n)\n",
    "    thetas_0 = f_vals[:,0]\n",
    "    if not np.isclose(thetas_0, thetas_0[0], atol=EPS).all():\n",
    "        return False\n",
    "    \n",
    "    # r(pi,phi_1) = r(pi,phi_2) = ... = r(pi, phi_n)\n",
    "    thetas_pi = f_vals[:,-1]\n",
    "    if not np.isclose(thetas_pi, thetas_pi[0], atol=EPS).all():\n",
    "        return False    \n",
    "    \n",
    "    # r(thetas,0) = r(thetas,2pi)\n",
    "    if not np.allclose(f_vals[0], f_vals[-1], atol=EPS):\n",
    "        return False\n",
    "    \n",
    "    return True"
   ]
  },
  {
   "cell_type": "code",
   "execution_count": null,
   "id": "d4924638",
   "metadata": {},
   "outputs": [],
   "source": [
    "def eval3D(individual):    \n",
    "    g1_approx_values = G1_BOUNDARY(individual.eval_values.diagonal()) # take digagonal values (theta_0, phi_0), ..., (theta_n,phi_n)\n",
    "    \n",
    "#     return linalg.norm(G1_VALUES - g1_approx_values), # Test evaluation\n",
    "    \n",
    "    A =HELPER.form_matrix(g1_approx_values.copy())\n",
    "    b = HELPER.form_column(g1_approx_values.copy())\n",
    "    \n",
    "    try: ## Sometimes got an error about zero division in log in formulas. Need to check if there is any error\n",
    "        lambda_ = linalg.lstsq(A,b)[0]\n",
    "    except:\n",
    "#         print(f\"F:{individual},  vals: \",individual.eval_values)\n",
    "        return 1e9,\n",
    "    \n",
    "    g2_dirichlet_approx = HELPER.uApprox(lambda_,HELPER.g2_coll,g1_approx_values)\n",
    "    \n",
    "    individual.error_values = G2_DIRICHLET_VALUES-g2_dirichlet_approx\n",
    "    individual.last_fitness = np.sum((G2_DIRICHLET_VALUES-g2_dirichlet_approx)**2)/N ## MSE error\n",
    "    \n",
    "    return individual.last_fitness,\n",
    "#     return linalg.norm(G2_DIRICHLET_VALUES-g2_dirichlet_approx), \n",
    "#     return np.sqrt((2*np.pi/N)*np.sum((G2_DIRICHLET_VALUES-g2_dirichlet_approx)**2)),"
   ]
  },
  {
   "cell_type": "markdown",
   "id": "9847f5ef",
   "metadata": {},
   "source": [
    "# Configure deap"
   ]
  },
  {
   "cell_type": "code",
   "execution_count": 3,
   "id": "f54eef25",
   "metadata": {},
   "outputs": [],
   "source": [
    "def protectedDiv(left, right):\n",
    "    if abs(right) < 1e-5:\n",
    "        return 1.0\n",
    "    return operator.truediv(left, right)\n",
    "def protectedSqrt(val):\n",
    "    return math.sqrt(abs(val))\n",
    "\n",
    "def pow2(val):\n",
    "    return math.pow(val,2)\n",
    "\n",
    "def pow3(val):\n",
    "    return math.pow(val,2)\n",
    "\n",
    "def pow4(val):\n",
    "    return math.pow(val,2)\n",
    "\n",
    "def pow5(val):\n",
    "    return math.pow(val,2)"
   ]
  },
  {
   "cell_type": "code",
   "execution_count": 4,
   "id": "f20c1240",
   "metadata": {},
   "outputs": [],
   "source": [
    "if DIM_2D:\n",
    "    pset = gp.PrimitiveSet(\"MAIN\", 1) # in 2d radial function has only one parameter\n",
    "else:\n",
    "    pset = gp.PrimitiveSet(\"MAIN\", 2) # in 3d radial function has two parameters (phi, theta)\n",
    "\n",
    "# some binary operators\n",
    "pset.addPrimitive(operator.add, 2)\n",
    "pset.addPrimitive(operator.sub, 2)\n",
    "pset.addPrimitive(protectedDiv, 2)\n",
    "pset.addPrimitive(operator.mul, 2)\n",
    "# pset.addPrimitive(protectedPow, 2) ## TODO: check and add\n",
    "# pset.addPrimitive(math.pow, 2)\n",
    "\n",
    "\n",
    "# some unary operators\n",
    "pset.addPrimitive(operator.neg, 1)\n",
    "pset.addPrimitive(math.cos, 1)\n",
    "pset.addPrimitive(math.sin, 1)\n",
    "pset.addPrimitive(protectedSqrt, 1)\n",
    "\n",
    "##### For test\n",
    "pset.addPrimitive(pow2, 1)\n",
    "pset.addPrimitive(pow3, 1)\n",
    "pset.addPrimitive(pow4, 1)\n",
    "pset.addPrimitive(pow5, 1)\n",
    "#####\n",
    "\n",
    "# some useful constants\n",
    "pset.addTerminal(np.pi,name='pi')\n",
    "pset.addTerminal(np.e,name='e')\n",
    "pset.addEphemeralConstant(\"randUniform\", lambda: random.uniform(RAND_CONST_MIN, RAND_CONST_MAX))\n",
    "\n",
    "# rename arguments\n",
    "if DIM_2D:\n",
    "    pset.renameArguments(ARG0='t')\n",
    "else:\n",
    "    pset.renameArguments(ARG0='theta')\n",
    "    pset.renameArguments(ARG1='phi')"
   ]
  },
  {
   "cell_type": "code",
   "execution_count": 5,
   "id": "c41d56e2",
   "metadata": {},
   "outputs": [],
   "source": [
    "creator.create(\"FitnessMin\", base.Fitness, weights=(-1.0,))\n",
    "creator.create(\"Individual\",\n",
    "               gp.PrimitiveTree,\n",
    "               fitness=creator.FitnessMin, \n",
    "               eval_values = np.empty(N, dtype=float),\n",
    "               error_values = np.empty(N, dtype=float),\n",
    "               last_fitness = float,\n",
    "               scale = 1.0)"
   ]
  },
  {
   "cell_type": "code",
   "execution_count": 6,
   "id": "1ee12c37",
   "metadata": {},
   "outputs": [],
   "source": [
    "toolbox = base.Toolbox()\n",
    "toolbox.register(\"expr\", gp.genHalfAndHalf, pset=pset, min_=1, max_=3)\n",
    "toolbox.register(\"individual\", tools.initIterate, creator.Individual, toolbox.expr)\n",
    "toolbox.register(\"island\", tools.initRepeat, list, toolbox.individual,POP_SIZE)\n",
    "toolbox.register(\"population\", tools.initRepeat, list, toolbox.island,NUM_ISLANDS)\n",
    "toolbox.register(\"compile\", gp.compile, pset=pset)"
   ]
  },
  {
   "cell_type": "code",
   "execution_count": null,
   "id": "29e03ddc",
   "metadata": {},
   "outputs": [],
   "source": [
    "if DIM_2D:\n",
    "    toolbox.register(\"evaluate\", eval2D)\n",
    "    toolbox.register(\"evaluate_feasible\",feasible2D, thetas = collocation.thetas_closed, curvature_threshold = 25.0)\n",
    "    toolbox.decorate(\"evaluate\", tools.DeltaPenalty(toolbox.evaluate_feasible, 1e7))\n",
    "else:\n",
    "    thetas_mesh, phis_mesh = collocation.mesh_closed\n",
    "    toolbox.register(\"evaluate\", eval3D)\n",
    "    toolbox.register(\"evaluate_feasible\",feasible3D, thetas = thetas_mesh, phis = phis_mesh)\n",
    "    toolbox.decorate(\"evaluate\", tools.DeltaPenalty(toolbox.evaluate_feasible, 1e10)) "
   ]
  },
  {
   "cell_type": "markdown",
   "id": "eeecba58",
   "metadata": {},
   "source": [
    "## Custom selection operators"
   ]
  },
  {
   "cell_type": "code",
   "execution_count": null,
   "id": "f50996b8",
   "metadata": {},
   "outputs": [],
   "source": [
    "from operator import attrgetter\n",
    "\n",
    "def selectTournamentUnique(individuals, k, tournsize,best = max, fit_attr=\"fitness\"):\n",
    "    chosen = []\n",
    "    while(len(chosen) < k):\n",
    "        aspirants = tools.selRandom(individuals, tournsize)\n",
    "        selected_best = best(aspirants, key=attrgetter(fit_attr))\n",
    "        if(selected_best not in chosen):\n",
    "            chosen.append(selected_best)\n",
    "    return chosen"
   ]
  },
  {
   "cell_type": "code",
   "execution_count": null,
   "id": "7e04ae9d",
   "metadata": {},
   "outputs": [],
   "source": [
    "toolbox.register(\"select_tournament\", tools.selTournament, tournsize=3)\n",
    "toolbox.register(\"select_worst\", tools.selWorst)"
   ]
  },
  {
   "cell_type": "markdown",
   "id": "cb7e0bcf",
   "metadata": {},
   "source": [
    "## Custom crossover operators"
   ]
  },
  {
   "cell_type": "code",
   "execution_count": null,
   "id": "292e1ab4",
   "metadata": {},
   "outputs": [],
   "source": [
    "def chooseMate(ind1, ind2, operators, probs): # operators = [(operator,prob),...]\n",
    "    op = np.random.choice(operators,1,probs)[0]\n",
    "    return op(ind1, ind2)"
   ]
  },
  {
   "cell_type": "code",
   "execution_count": null,
   "id": "56bd62f1",
   "metadata": {},
   "outputs": [],
   "source": [
    "def cxUniform(ind1, ind2, swapProb):\n",
    "    if len(ind1) < 2 or len(ind2) < 2:\n",
    "        # No crossover on single node tree\n",
    "        return ind1, ind2\n",
    "    \n",
    "    stack=[]\n",
    "    # append left subtrees slices\n",
    "    slice1,slice2=ind1.searchSubtree(1),ind2.searchSubtree(1)\n",
    "    stack.append((slice1,slice2))\n",
    "    \n",
    "    # Append rigth subtrees slices if both exists\n",
    "    if ind1.root.arity == 2 and ind2.root.arity == 2:\n",
    "        stack.append((ind1.searchSubtree(slice1.stop),ind2.searchSubtree(slice2.stop)))\n",
    "        \n",
    "    while stack:\n",
    "        # take subtrees slices\n",
    "        slice1, slice2=stack.pop()\n",
    "        \n",
    "        if random.random() < swapProb:\n",
    "            # If arity the same just swap nodes else swap subtrees\n",
    "            if ind1[slice1.start].arity == ind2[slice2.start].arity:\n",
    "                ind1[slice1.start], ind2[slice2.start]=ind2[slice2.start],ind1[slice1.start]\n",
    "            else:\n",
    "                ind1[slice1], ind2[slice2] = ind2[slice2], ind1[slice1]\n",
    "                slice1, slice2=ind1.searchSubtree(slice1.start),ind2.searchSubtree(slice2.start)\n",
    "        \n",
    "        # Append subtrees slices\n",
    "        if ind1[slice1.start].arity == 0 or ind2[slice2.start].arity == 0:\n",
    "            continue\n",
    "        elif ind1[slice1.start].arity == 1 or ind2[slice2.start].arity == 1:\n",
    "            stack.append((ind1.searchSubtree(slice1.start+1),ind2.searchSubtree(slice2.start+1)))\n",
    "        else:\n",
    "            slice1, slice2=ind1.searchSubtree(slice1.start+1),ind2.searchSubtree(slice2.start+1)\n",
    "            stack.append((slice1,slice2))\n",
    "            stack.append((ind1.searchSubtree(slice1.stop), ind2.searchSubtree(slice2.stop)))\n",
    "        \n",
    "    return ind1,ind2"
   ]
  },
  {
   "cell_type": "code",
   "execution_count": null,
   "id": "d091fdf2",
   "metadata": {},
   "outputs": [],
   "source": [
    "toolbox.register(\"mate_one_point\", gp.cxOnePoint)\n",
    "toolbox.register(\"mate_uniform\", cxUniform, swapProb = 0.25)\n",
    "\n",
    "'''\n",
    " Crossover Operator |   Apply probability\n",
    "--------------------|----------------------\n",
    " One point          |         60%\n",
    " Uniform            |         40% \n",
    "\n",
    "'''\n",
    "\n",
    "toolbox.register(\"mate\",chooseMate,\n",
    "                operators = (toolbox.mate_one_point,\n",
    "                             toolbox.mate_uniform),\n",
    "                 probs = (0.6,0.4))"
   ]
  },
  {
   "cell_type": "code",
   "execution_count": null,
   "id": "0fb86a5e",
   "metadata": {},
   "outputs": [],
   "source": [
    "from functools import wraps\n",
    "\n",
    "# def resetScaleDecorator(func):\n",
    "#     @wraps(func)\n",
    "#     def wrapper(*args, **kwargs):\n",
    "#         ret_inds = func(*args, **kwargs)\n",
    "#         for ind in ret_inds:\n",
    "#             ind.scale = 1.0\n",
    "#         return ret_inds\n",
    "\n",
    "#     return wrapper\n",
    "\n",
    "def scaleMateDecorator(func):\n",
    "    @wraps(func)\n",
    "    def wrapper(*args, **kwargs):\n",
    "        ret_inds = func(*args, **kwargs)\n",
    "        avg_scale = sum([ind.scale for ind in args])/len(ret_inds)\n",
    "        for ind in ret_inds:\n",
    "            ind.scale = avg_scale\n",
    "        return ret_inds\n",
    "\n",
    "    return wrapper"
   ]
  },
  {
   "cell_type": "markdown",
   "id": "29cfac84",
   "metadata": {},
   "source": [
    "## Custom mutation operators"
   ]
  },
  {
   "cell_type": "code",
   "execution_count": null,
   "id": "0836cf87",
   "metadata": {},
   "outputs": [],
   "source": [
    "def mutScale(individual, scale):\n",
    "    fit = individual.last_fitness\n",
    "    \n",
    "    individual.scale += np.random.uniform(-scale*fit,scale*fit)\n",
    "    \n",
    "    return individual,"
   ]
  },
  {
   "cell_type": "code",
   "execution_count": null,
   "id": "060eaca8",
   "metadata": {},
   "outputs": [],
   "source": [
    "def mutHoist(individual):\n",
    "    '''\n",
    "    This operator set randomly selected subtree as a new individual\n",
    "    \n",
    "    '''\n",
    "    # We don't want to \"shrink\" the root\n",
    "    if len(individual) < 3 or individual.height <= 1:\n",
    "        return individual,\n",
    "    \n",
    "    index = random.randrange(1,len(individual)) # choose random node ( not root)\n",
    "    slice_ = individual.searchSubtree(index)\n",
    "    return creator.Individual(individual[slice_]),"
   ]
  },
  {
   "cell_type": "code",
   "execution_count": null,
   "id": "76ed4053",
   "metadata": {},
   "outputs": [],
   "source": [
    "def mutEphemeralByFitness(individual, scale, mode):\n",
    "    ephemerals_idx = [index\n",
    "                      for index, node in enumerate(individual)\n",
    "                      if isinstance(node, gp.Ephemeral)]\n",
    "    \n",
    "    if len(ephemerals_idx) > 0:\n",
    "        fit = individual.last_fitness\n",
    "        if mode == 'one':\n",
    "            ephemerals_idx = (random.choice(ephemerals_idx),)\n",
    "        \n",
    "        for i in ephemerals_idx:\n",
    "            individual[i].value += np.random.uniform(-scale*fit,scale*fit)\n",
    "            \n",
    "    return individual,"
   ]
  },
  {
   "cell_type": "code",
   "execution_count": null,
   "id": "e89df4e9",
   "metadata": {},
   "outputs": [],
   "source": [
    "def mutAddConstant(individual, pset):\n",
    "    if len(individual) < 3 or individual.height <= 1:\n",
    "        return individual,\n",
    "    \n",
    "    index = random.randrange(1,len(individual)) # choose random node ( not root)\n",
    "    slice_ = individual.searchSubtree(index)\n",
    "    mulPrimitive = gp.Primitive(operator.mul.__name__, [object, object], object)\n",
    "\n",
    "    individual[slice_] = [mulPrimitive] + individual[slice_] + [gp.randUniform()]# Warning: function name has to be defined in pset\n",
    "    return individual,"
   ]
  },
  {
   "cell_type": "code",
   "execution_count": null,
   "id": "afcae1a3",
   "metadata": {},
   "outputs": [],
   "source": [
    "def chooseMutate(individual, operators,probs): # operators = [(operator,prob),...]\n",
    "    op = np.random.choice(operators, p=probs)\n",
    "    return op(individual)"
   ]
  },
  {
   "cell_type": "code",
   "execution_count": null,
   "id": "8572ff82",
   "metadata": {},
   "outputs": [],
   "source": [
    "toolbox.register(\"expr_mut\", gp.genFull, min_=0, max_=2)\n",
    "# Standart ( from 'deap' lib)\n",
    "toolbox.register(\"mutate_uniform\", gp.mutUniform, expr=toolbox.expr_mut, pset=pset)\n",
    "toolbox.register(\"mutate_node_replacement\", gp.mutNodeReplacement, pset=pset)\n",
    "toolbox.register(\"mutate_insert\", gp.mutInsert,  pset=pset)\n",
    "toolbox.register(\"mutate_hoist\", mutHoist)\n",
    "\n",
    "# Custom\n",
    "toolbox.register(\"mutate_ephemeral\", mutEphemeralByFitness, scale = 1e-2, mode='all')\n",
    "toolbox.register(\"mutate_scale\", mutScale, scale = 1e-2)\n",
    "toolbox.register(\"mutate_add_const\", mutAddConstant, pset=pset)\n",
    "\n",
    "'''\n",
    "  Mutation Operator |   Apply probability\n",
    "--------------------|----------------------\n",
    " Uniform            |         20%\n",
    " Node replacemnet   |         20% \n",
    " Ephemeral          |         30%\n",
    " Insert             |         10%\n",
    " Hoist              |         5%\n",
    " Add constant       |         5%\n",
    " Scale              |         10%\n",
    "'''\n",
    "\n",
    "toolbox.register(\"mutate\",chooseMutate,\n",
    "                operators = (toolbox.mutate_uniform,\n",
    "                             toolbox.mutate_node_replacement,\n",
    "                             toolbox.mutate_ephemeral,\n",
    "                             toolbox.mutate_insert,\n",
    "                             toolbox.mutate_hoist,\n",
    "                             toolbox.mutate_add_const,\n",
    "                             toolbox.mutate_scale),\n",
    "                 probs = (0.2,0.2,0.3,0.1,0.05,0.05,0.1))\n",
    "# toolbox.register(\"mutate\",chooseMutate,\n",
    "#                 operators = (toolbox.mutate_uniform,\n",
    "#                              toolbox.mutate_node_replacement,\n",
    "#                              toolbox.mutate_ephemeral,\n",
    "#                              toolbox.mutate_insert,\n",
    "#                              toolbox.mutate_hoist,\n",
    "#                              toolbox.mutate_add_const,\n",
    "#                              toolbox.mutate_scale),\n",
    "#                  probs = (0.2,0.35,0.05,0.2,0.05,0.05,0.1))"
   ]
  },
  {
   "cell_type": "markdown",
   "id": "c7d6aa3b",
   "metadata": {},
   "source": [
    "## Migration"
   ]
  },
  {
   "cell_type": "code",
   "execution_count": null,
   "id": "9f4b947b",
   "metadata": {},
   "outputs": [],
   "source": [
    "toolbox.register(\"migrate\",tools.migRing,k=20,selection=tools.selBest)"
   ]
  },
  {
   "cell_type": "markdown",
   "id": "a04192c4",
   "metadata": {},
   "source": [
    "### Specify the height limits due to stack overflow error in algorithms"
   ]
  },
  {
   "cell_type": "code",
   "execution_count": null,
   "id": "1612c3ce",
   "metadata": {},
   "outputs": [],
   "source": [
    "toolbox.decorate(\"mate\", gp.staticLimit(key=operator.attrgetter(\"height\"), max_value=15))\n",
    "toolbox.decorate(\"mutate\", gp.staticLimit(key=operator.attrgetter(\"height\"), max_value=15))"
   ]
  },
  {
   "cell_type": "markdown",
   "id": "9b840ade",
   "metadata": {},
   "source": [
    "## Plotting"
   ]
  },
  {
   "cell_type": "code",
   "execution_count": null,
   "id": "e5d4f8a5",
   "metadata": {},
   "outputs": [],
   "source": [
    "from abc import ABC, abstractmethod\n",
    "class PlotInteractive(ABC):\n",
    "    def __init__(self, fig, ax):\n",
    "        self.fig = fig\n",
    "        self.ax = ax\n",
    "    @abstractmethod\n",
    "    def plot_approx(self, r_approx, title):\n",
    "        pass"
   ]
  },
  {
   "cell_type": "code",
   "execution_count": null,
   "id": "9e247785",
   "metadata": {},
   "outputs": [],
   "source": [
    "class PlotInteractive2D(PlotInteractive):\n",
    "    def __init__(self, fig, ax, thetas, r_exact_vals):\n",
    "        super().__init__(fig, ax)\n",
    "        self.thetas = thetas\n",
    "        self.x = np.cos(self.thetas)\n",
    "        self.y = np.sin(self.thetas)\n",
    "        \n",
    "        self.curve_exact = ax.plot(r_exact_vals*self.x, r_exact_vals*self.y, 'g-')\n",
    "#         self.curve_approx = ax.plot(self.x, self.y, 'b--')\n",
    "#         self.curve_approx_arr = [ax.plot(self.x, self.y, 'b--') for i in range(n_plot)]\n",
    "        self.curve_approx_arr = [] \n",
    "\n",
    "    def plot_many(self, r_approx_arr, title):\n",
    "        if len(self.curve_approx_arr) == 0:\n",
    "            for r_vals in r_approx_arr:\n",
    "                self.curve_approx_arr.append(ax.plot(r_vals*self.x,r_vals*self.y,'--'))\n",
    "        else:\n",
    "            for r_vals, curve_approx in zip(r_approx_arr, self.curve_approx_arr):\n",
    "                curve_approx[0].set_xdata(r_vals*self.x)\n",
    "                curve_approx[0].set_ydata(r_vals*self.y)\n",
    "        \n",
    "        self.ax.set_title(title)\n",
    "        self.fig.canvas.draw()\n",
    "\n",
    "    def plot_approx(self, r_approx, errors, title):\n",
    "        \n",
    "        self.curve_approx[0].set_xdata(r_approx*self.x)\n",
    "        self.curve_approx[0].set_ydata(r_approx*self.y)\n",
    "#         if self.plot_errors:\n",
    "#             self.scatter_error.remove()\n",
    "#             self.scatter_error = ax.scatter(r_approx*self.x, r_approx*self.y, s =20, c =errors  )\n",
    "#             self.fig.colorbar(self.scatter_error, ax= self.ax)\n",
    "\n",
    "        self.ax.set_title(title)\n",
    "        self.fig.canvas.draw()"
   ]
  },
  {
   "cell_type": "code",
   "execution_count": null,
   "id": "3c00d88b",
   "metadata": {},
   "outputs": [],
   "source": [
    "class PlotInteractive3D(PlotInteractive):\n",
    "    def __init__(self, fig, ax, thetas, phis, r_exact_vals):\n",
    "        super().__init__(fig, ax)\n",
    "        self.thetas = thetas\n",
    "        self.phis = phis\n",
    "        self.x = np.outer(np.cos(self.phis), np.sin(self.thetas))\n",
    "        self.y = np.outer(np.sin(self.phis), np.sin(self.thetas))\n",
    "        self.z = np.outer(np.ones(np.size(self.phis)), np.cos(self.thetas))\n",
    "        self.surf_exact = ax.plot_wireframe(r_exact_vals*self.x,r_exact_vals*self.y,r_exact_vals*self.z, colors='lime')\n",
    "        self.surf_approx = ax.plot_wireframe(self.x,self.y,self.z)\n",
    "\n",
    "    def plot_approx(self, r_approx, errors, title):\n",
    "        self.surf_approx.remove()\n",
    "        self.surf_approx = self.ax.plot_wireframe(\n",
    "            r_approx*self.x,\n",
    "            r_approx*self.y,\n",
    "            r_approx*self.z,\n",
    "            colors='royalblue')\n",
    "        self.ax.set_title(title)\n",
    "        fig.canvas.draw()"
   ]
  },
  {
   "cell_type": "code",
   "execution_count": null,
   "id": "23ca8cee",
   "metadata": {},
   "outputs": [],
   "source": [
    "# %matplotlib notebook\n",
    "# import matplotlib.pyplot as plt\n",
    "# def plot_approximation(individual, title, plot_interactive):\n",
    "#     r_vals = individual.eval_values\n",
    "#     errors = abs(individual.error_values)\n",
    "#     if DIM_2D:\n",
    "#         plot_interactive.plot_approx(np.append(r_vals,r_vals[0]),np.append(errors,errors[0]), title)\n",
    "#     else:\n",
    "#         plot_interactive.plot_approx(r_vals,individual.error_values, title)\n",
    "\n",
    "%matplotlib notebook\n",
    "import matplotlib.pyplot as plt\n",
    "def plot_approximation(individuals, title, plot_interactive):\n",
    "    r_vals_arr = [np.append(ind.eval_values,ind.eval_values[0]) for ind in individuals]\n",
    "    plot_interactive.plot_many(r_vals_arr, title)"
   ]
  },
  {
   "cell_type": "code",
   "execution_count": null,
   "id": "3dcbdc39",
   "metadata": {},
   "outputs": [],
   "source": [
    "if DIM_2D:\n",
    "    fig, ax = plt.subplots(1,1)\n",
    "    ax.axis('equal')\n",
    "    plt.ion()\n",
    "    fig.show()\n",
    "    fig.canvas.draw()\n",
    "    plot_interactive_object = PlotInteractive2D(\n",
    "        fig = fig,\n",
    "        ax = ax,\n",
    "        thetas = collocation.thetas_closed,\n",
    "        r_exact_vals = R_EXACT(collocation.thetas_closed)\n",
    "    )\n",
    "else:\n",
    "    fig = plt.figure()\n",
    "    ax = fig.add_subplot(projection='3d')\n",
    "    \n",
    "    # TODO: set axis limits automaticly\n",
    "    ax.set_xlim3d([-3, 3])\n",
    "    ax.set_ylim3d([-3, 3])\n",
    "    ax.set_zlim3d([-3, 3])\n",
    "    plot_interactive_object = PlotInteractive3D(\n",
    "        fig = fig,\n",
    "        ax = ax,\n",
    "        thetas = collocation.thetas,\n",
    "        phis = collocation.phis_closed,\n",
    "        r_exact_vals = R_EXACT(thetas_mesh, phis_mesh)\n",
    "    )\n",
    "\n",
    "%matplotlib inline\n",
    "toolbox.register(\"plot\", plot_approximation, plot_interactive = plot_interactive_object)"
   ]
  },
  {
   "cell_type": "code",
   "execution_count": null,
   "id": "7fde8c4b",
   "metadata": {},
   "outputs": [],
   "source": [
    "def algorithm(pop_size, gen_num,\n",
    "              statistics,\n",
    "              initial_guesses = None,\n",
    "              checkpoint_freq = 200,\n",
    "              hof_size = 5):\n",
    "    \n",
    "    # Insert initial guesses if given\n",
    "    if(initial_guesses is None):\n",
    "        population = toolbox.population(n=pop_size)\n",
    "    else:\n",
    "        population = toolbox.population(n=pop_size-len(initial_guesses))\n",
    "        population.extend(initial_guesses)\n",
    "    \n",
    "    # Saves best individual\n",
    "    hof = tools.HallOfFame(hof_size)\n",
    "    \n",
    "    # Evaluate the entire population\n",
    "    for ind in population:\n",
    "        if not ind.fitness.valid:\n",
    "            ind.fitness.values = toolbox.evaluate(ind)\n",
    "    \n",
    "    # Update hof\n",
    "    hof.update(population)\n",
    "    \n",
    "    # Register logbook\n",
    "    logbook = tools.Logbook()\n",
    "    logbook.header = ['gen', 'nevals'] + (statistics.fields if statistics else [])\n",
    "    \n",
    "    record = statistics.compile(population)\n",
    "    logbook.record(gen=0, nevals=len(population), **record)\n",
    "    \n",
    "    # Print progress\n",
    "    print(logbook.stream)\n",
    "    \n",
    "    for generation in range(1, gen_num+1):\n",
    "        population = toolbox.execute_one(population)\n",
    "        \n",
    "        num_eval = 0\n",
    "        # Evaluate the individuals with an invalid fitness\n",
    "        for ind in population:\n",
    "            if not ind.fitness.valid:\n",
    "                ind.fitness.values = toolbox.evaluate(ind)\n",
    "                num_eval +=1\n",
    "\n",
    "        # Update hof\n",
    "        hof.update(population)\n",
    "        \n",
    "        # Record and print progress\n",
    "        record = statistics.compile(population)\n",
    "        logbook.record(gen=generation, nevals=num_eval, **record)\n",
    "        print(logbook.stream)\n",
    "        \n",
    "        # Plot current solution\n",
    "        toolbox.plot(hof,title = f'Iteration {generation}, best fitness: {hof[0].fitness.values[0]}')\n",
    "        \n",
    "        if toolbox.stop_condition(logbook):\n",
    "            break\n",
    "    return population, logbook, hof"
   ]
  },
  {
   "cell_type": "markdown",
   "id": "eb4ae2f7",
   "metadata": {},
   "source": [
    "## Define execution model"
   ]
  },
  {
   "cell_type": "code",
   "execution_count": null,
   "id": "ed3d2ff2",
   "metadata": {},
   "outputs": [],
   "source": [
    "def rModel(population, cross_prob, mut_prob, rng):\n",
    "    changeSize = int(0.4*len(population))\n",
    "    \n",
    "    # Select parents and copy them to offspring\n",
    "    parents = toolbox.select_tournament(population, changeSize)\n",
    "\n",
    "    offspring = [toolbox.clone(ind) for ind in parents]\n",
    "\n",
    "    # Select died elements and remove them from population\n",
    "    to_die = toolbox.select_worst(population, changeSize)\n",
    "\n",
    "    population = [ind for ind in population if not any(ind is copy for copy in to_die)]\n",
    "\n",
    "    # Apply crossover and mutation to create offspring\n",
    "    for ind1, ind2 in zip(offspring[::2], offspring[1::2]):\n",
    "        if rng.random() < cross_prob:\n",
    "            ind1,ind2 = toolbox.mate(ind1, ind2)\n",
    "            del ind1.fitness.values\n",
    "            del ind2.fitness.values\n",
    "\n",
    "    for ind in offspring:\n",
    "        if rng.random() < mut_prob:\n",
    "            ind, = toolbox.mutate(ind)\n",
    "            del ind.fitness.values\n",
    "\n",
    "    # Extend population by offspring\n",
    "    population.extend(offspring)\n",
    "    \n",
    "    return population"
   ]
  },
  {
   "cell_type": "code",
   "execution_count": null,
   "id": "24852e75",
   "metadata": {},
   "outputs": [],
   "source": [
    "def simpleModel(population, cross_prob, mut_prob, rng):    \n",
    "    # Select parents and copy them to offspring\n",
    "    parents = toolbox.select_tournament(population, len(population))\n",
    "    offspring = [toolbox.clone(ind) for ind in parents]\n",
    "\n",
    "    # Apply crossover and mutation to create offspring\n",
    "    for ind1, ind2 in zip(offspring[::2], offspring[1::2]):\n",
    "        if rng.random() < cross_prob:\n",
    "            ind1,ind2 = toolbox.mate(ind1, ind2)\n",
    "            del ind1.fitness.values\n",
    "            del ind2.fitness.values\n",
    "\n",
    "    for ind in offspring:\n",
    "        if rng.random() < mut_prob:\n",
    "            ind, = toolbox.mutate(ind)\n",
    "            del ind.fitness.values\n",
    "    \n",
    "    return offspring"
   ]
  },
  {
   "cell_type": "code",
   "execution_count": null,
   "id": "e1b28d45",
   "metadata": {},
   "outputs": [],
   "source": [
    "def muPlusLambda(population, cross_prob, mut_prob, mu, lambda_, rng):\n",
    "    offspring = []\n",
    "    for _ in range(lambda_):\n",
    "        if rng.random() < cross_prob:\n",
    "            ind1, ind2 = [toolbox.clone(i) for i in random.sample(population, 2)]\n",
    "            ind1, ind2 = toolbox.mate(ind1, ind2)\n",
    "            del ind1.fitness.values\n",
    "            offspring.append(ind1)\n",
    "        elif rng.random() < mut_prob:\n",
    "            ind = toolbox.clone(random.choice(population))\n",
    "            ind, = toolbox.mutate(ind)\n",
    "            del ind.fitness.values\n",
    "            offspring.append(ind)\n",
    "        else:\n",
    "            offspring.append(random.choice(population))\n",
    "    population[:] = toolbox.select_tournament(population + offspring, mu)\n",
    "    \n",
    "    return population"
   ]
  },
  {
   "cell_type": "code",
   "execution_count": null,
   "id": "78a02cb7",
   "metadata": {},
   "outputs": [],
   "source": [
    "def simpleStopCond(logbook, max_no_imporve_iters):\n",
    "    fitnesses = logbook.select(\"min\")\n",
    "    \n",
    "    if len(fitnesses) > max_no_imporve_iters:\n",
    "        return fitnesses[-1] > fitnesses[-max_no_imporve_iters]\n",
    "\n",
    "    return False\n",
    "\n",
    "def deltaStopCond(logbook, max_no_imporve_iters,delta):\n",
    "    fitnesses = logbook.select(\"min\")\n",
    "    \n",
    "    if len(fitnesses) > max_no_imporve_iters:\n",
    "        return abs(fitnesses[-1] - fitnesses[-max_no_imporve_iters]) < delta\n",
    "\n",
    "    return False\n",
    "    "
   ]
  },
  {
   "cell_type": "code",
   "execution_count": null,
   "id": "cce1a2bb",
   "metadata": {},
   "outputs": [],
   "source": [
    "def algorightmWithGuesses(pop_size, gen_num, guess_pop_size, guess_gen_num, stats, n_guesses):\n",
    "    best_solutions = []\n",
    "    \n",
    "    for i in range(n_guesses):\n",
    "        print(f'Guess {i+1}/{n_guesses} {\"-\"*100}')\n",
    "        _, _, curr_hof = algorithm(pop_size = guess_pop_size, gen_num = guess_gen_num, statistics = stats)\n",
    "        best_solutions.extend(curr_hof)\n",
    "    \n",
    "    \n",
    "    return algorithm(\n",
    "        pop_size = pop_size + len(best_solutions),\n",
    "        gen_num = gen_num,\n",
    "        statistics = stats, \n",
    "        initial_guesses = best_solutions)\n"
   ]
  },
  {
   "cell_type": "code",
   "execution_count": null,
   "id": "e6e46a95",
   "metadata": {},
   "outputs": [],
   "source": [
    "# Define statistics\n",
    "stats = tools.Statistics(lambda ind: ind.fitness.values)\n",
    "\n",
    "stats.register(\"avg\", np.mean)\n",
    "stats.register(\"std\", np.std)\n",
    "stats.register(\"min\", np.min)\n",
    "stats.register(\"max\", np.max)"
   ]
  },
  {
   "cell_type": "code",
   "execution_count": null,
   "id": "bcdd54b1",
   "metadata": {},
   "outputs": [],
   "source": [
    "toolbox.register(\"execute_one\", rModel, cross_prob = 0.65, mut_prob = 0.25, rng = np.random.default_rng())\n",
    "# toolbox.register(\"execute_one\", simpleModel, cross_prob = 0.65, mut_prob = 0.3, rng = np.random.default_rng())\n",
    "#toolbox.register(\"execute_one\", muPlusLambda, cross_prob = 0.65, mut_prob = 0.45, mu = 1000, lambda_ = 500, rng = np.random.default_rng())"
   ]
  },
  {
   "cell_type": "code",
   "execution_count": null,
   "id": "92c2f8ee",
   "metadata": {},
   "outputs": [],
   "source": [
    "# toolbox.register(\"stop_condition\", simpleStopCond, max_no_imporve_iters = 100)\n",
    "toolbox.register(\"stop_condition\", deltaStopCond, max_no_imporve_iters = 150, delta=1e-5)"
   ]
  },
  {
   "cell_type": "code",
   "execution_count": null,
   "id": "e757d316",
   "metadata": {},
   "outputs": [],
   "source": [
    "population, logbook, hof = algorightmWithGuesses(pop_size = 500,\n",
    "                      gen_num = 500, \n",
    "                      guess_pop_size = 200,\n",
    "                      guess_gen_num = 200,\n",
    "                      stats = stats, \n",
    "                      n_guesses = 10)"
   ]
  },
  {
   "cell_type": "code",
   "execution_count": null,
   "id": "00eba3b5",
   "metadata": {},
   "outputs": [],
   "source": [
    "for ind in hof:\n",
    "    print(ind,'\\n\\n')"
   ]
  },
  {
   "cell_type": "code",
   "execution_count": null,
   "id": "9a1dc392",
   "metadata": {},
   "outputs": [],
   "source": []
  },
  {
   "cell_type": "code",
   "execution_count": null,
   "id": "8ed71649",
   "metadata": {},
   "outputs": [],
   "source": []
  },
  {
   "cell_type": "code",
   "execution_count": null,
   "id": "5461b265",
   "metadata": {},
   "outputs": [],
   "source": []
  },
  {
   "cell_type": "code",
   "execution_count": null,
   "id": "9f465a14",
   "metadata": {},
   "outputs": [],
   "source": []
  },
  {
   "cell_type": "code",
   "execution_count": null,
   "id": "3aabeb6f",
   "metadata": {},
   "outputs": [],
   "source": []
  }
 ],
 "metadata": {
  "kernelspec": {
   "display_name": "Python 3.8 (Deap)",
   "language": "python",
   "name": "deap_env"
  },
  "language_info": {
   "codemirror_mode": {
    "name": "ipython",
    "version": 3
   },
   "file_extension": ".py",
   "mimetype": "text/x-python",
   "name": "python",
   "nbconvert_exporter": "python",
   "pygments_lexer": "ipython3",
   "version": "3.8.10"
  }
 },
 "nbformat": 4,
 "nbformat_minor": 5
}
