{
 "cells": [
  {
   "cell_type": "code",
   "execution_count": 1,
   "id": "f10061af",
   "metadata": {},
   "outputs": [],
   "source": [
    "import asyncio\n",
    "import queue\n",
    "from motor.motor_asyncio import AsyncIOMotorClient\n",
    "from pymongo.server_api import ServerApi"
   ]
  },
  {
   "cell_type": "code",
   "execution_count": 2,
   "id": "150d8967",
   "metadata": {},
   "outputs": [],
   "source": [
    "MONGODB_CONNECTION_STRING = \"mongodb://localhost:27017/\"\n",
    "DATABASE_NAME = \"TestExpressions\"\n",
    "COLLECTION_NAME = \"Expressions\""
   ]
  },
  {
   "cell_type": "code",
   "execution_count": 3,
   "id": "0ff91fcb",
   "metadata": {},
   "outputs": [],
   "source": [
    "client = AsyncIOMotorClient(MONGODB_CONNECTION_STRING, server_api=ServerApi('1'))\n",
    "db = client[DATABASE_NAME]\n",
    "collection = db[COLLECTION_NAME]"
   ]
  },
  {
   "cell_type": "code",
   "execution_count": 4,
   "id": "b472df79",
   "metadata": {},
   "outputs": [],
   "source": [
    "GLOB_QUEUE = asyncio.Queue()"
   ]
  },
  {
   "cell_type": "code",
   "execution_count": 5,
   "id": "72bee8f7",
   "metadata": {},
   "outputs": [],
   "source": [
    "async def db_writer():\n",
    "    while True:\n",
    "        record = await GLOB_QUEUE.get()\n",
    "        await collection.insert_one(record)\n",
    "        GLOB_QUEUE.task_done()"
   ]
  },
  {
   "cell_type": "code",
   "execution_count": 6,
   "id": "2a514a78",
   "metadata": {},
   "outputs": [],
   "source": [
    "async def main():\n",
    "    # Enqueue your records here\n",
    "    records = [{\"expression\": \"2 + 2\"}, {\"expression\": \"3 * 5\"}, {\"expression\": \"sqrt(16)\"}]\n",
    "    for record in records:\n",
    "        await GLOB_QUEUE.put(record)\n",
    "        \n",
    "#     await GLOB_QUEUE.join()"
   ]
  },
  {
   "cell_type": "code",
   "execution_count": 7,
   "id": "1bf8a6a5",
   "metadata": {},
   "outputs": [],
   "source": [
    "def cleanup():\n",
    "    client.close()"
   ]
  },
  {
   "cell_type": "code",
   "execution_count": null,
   "id": "332d7bc0",
   "metadata": {},
   "outputs": [],
   "source": [
    "loop = asyncio.get_event_loop()"
   ]
  },
  {
   "cell_type": "code",
   "execution_count": null,
   "id": "ff3fc66a",
   "metadata": {},
   "outputs": [],
   "source": [
    "try:\n",
    "    loop.run_until_complete(main())\n",
    "    loop.run_until_complete(db_writer())\n",
    "finally:\n",
    "    loop.close()"
   ]
  },
  {
   "cell_type": "code",
   "execution_count": null,
   "id": "7a6b2374",
   "metadata": {},
   "outputs": [],
   "source": []
  },
  {
   "cell_type": "code",
   "execution_count": null,
   "id": "a0c84cf2",
   "metadata": {},
   "outputs": [],
   "source": []
  },
  {
   "cell_type": "code",
   "execution_count": 8,
   "id": "b39bf9ab",
   "metadata": {},
   "outputs": [],
   "source": [
    "# writer_task = asyncio.create_task(db_writer(GLOB_QUEUE))"
   ]
  },
  {
   "cell_type": "code",
   "execution_count": 10,
   "id": "ae4f049c",
   "metadata": {},
   "outputs": [
    {
     "ename": "RuntimeError",
     "evalue": "This event loop is already running",
     "output_type": "error",
     "traceback": [
      "\u001b[1;31m---------------------------------------------------------------------------\u001b[0m",
      "\u001b[1;31mRuntimeError\u001b[0m                              Traceback (most recent call last)",
      "\u001b[1;32mC:\\Users\\PROGRA~1\\AppData\\Local\\Temp/ipykernel_14456/1500380785.py\u001b[0m in \u001b[0;36m<module>\u001b[1;34m\u001b[0m\n\u001b[0;32m      2\u001b[0m     \u001b[1;32mawait\u001b[0m \u001b[0mmain\u001b[0m\u001b[1;33m(\u001b[0m\u001b[1;33m)\u001b[0m\u001b[1;33m\u001b[0m\u001b[1;33m\u001b[0m\u001b[0m\n\u001b[0;32m      3\u001b[0m     \u001b[0mloop\u001b[0m \u001b[1;33m=\u001b[0m \u001b[0mclient\u001b[0m\u001b[1;33m.\u001b[0m\u001b[0mget_io_loop\u001b[0m\u001b[1;33m(\u001b[0m\u001b[1;33m)\u001b[0m\u001b[1;33m\u001b[0m\u001b[1;33m\u001b[0m\u001b[0m\n\u001b[1;32m----> 4\u001b[1;33m     \u001b[0mloop\u001b[0m\u001b[1;33m.\u001b[0m\u001b[0mrun_until_complete\u001b[0m\u001b[1;33m(\u001b[0m\u001b[0mdb_writer\u001b[0m\u001b[1;33m(\u001b[0m\u001b[0mGLOB_QUEUE\u001b[0m\u001b[1;33m)\u001b[0m\u001b[1;33m)\u001b[0m\u001b[1;33m\u001b[0m\u001b[1;33m\u001b[0m\u001b[0m\n\u001b[0m\u001b[0;32m      5\u001b[0m \u001b[1;32mfinally\u001b[0m\u001b[1;33m:\u001b[0m\u001b[1;33m\u001b[0m\u001b[1;33m\u001b[0m\u001b[0m\n\u001b[0;32m      6\u001b[0m     \u001b[0mcleanup\u001b[0m\u001b[1;33m(\u001b[0m\u001b[1;33m)\u001b[0m\u001b[1;33m\u001b[0m\u001b[1;33m\u001b[0m\u001b[0m\n",
      "\u001b[1;32mC:\\Program Files\\WindowsApps\\PythonSoftwareFoundation.Python.3.8_3.8.2800.0_x64__qbz5n2kfra8p0\\lib\\asyncio\\base_events.py\u001b[0m in \u001b[0;36mrun_until_complete\u001b[1;34m(self, future)\u001b[0m\n\u001b[0;32m    590\u001b[0m         \"\"\"\n\u001b[0;32m    591\u001b[0m         \u001b[0mself\u001b[0m\u001b[1;33m.\u001b[0m\u001b[0m_check_closed\u001b[0m\u001b[1;33m(\u001b[0m\u001b[1;33m)\u001b[0m\u001b[1;33m\u001b[0m\u001b[1;33m\u001b[0m\u001b[0m\n\u001b[1;32m--> 592\u001b[1;33m         \u001b[0mself\u001b[0m\u001b[1;33m.\u001b[0m\u001b[0m_check_running\u001b[0m\u001b[1;33m(\u001b[0m\u001b[1;33m)\u001b[0m\u001b[1;33m\u001b[0m\u001b[1;33m\u001b[0m\u001b[0m\n\u001b[0m\u001b[0;32m    593\u001b[0m \u001b[1;33m\u001b[0m\u001b[0m\n\u001b[0;32m    594\u001b[0m         \u001b[0mnew_task\u001b[0m \u001b[1;33m=\u001b[0m \u001b[1;32mnot\u001b[0m \u001b[0mfutures\u001b[0m\u001b[1;33m.\u001b[0m\u001b[0misfuture\u001b[0m\u001b[1;33m(\u001b[0m\u001b[0mfuture\u001b[0m\u001b[1;33m)\u001b[0m\u001b[1;33m\u001b[0m\u001b[1;33m\u001b[0m\u001b[0m\n",
      "\u001b[1;32mC:\\Program Files\\WindowsApps\\PythonSoftwareFoundation.Python.3.8_3.8.2800.0_x64__qbz5n2kfra8p0\\lib\\asyncio\\base_events.py\u001b[0m in \u001b[0;36m_check_running\u001b[1;34m(self)\u001b[0m\n\u001b[0;32m    550\u001b[0m     \u001b[1;32mdef\u001b[0m \u001b[0m_check_running\u001b[0m\u001b[1;33m(\u001b[0m\u001b[0mself\u001b[0m\u001b[1;33m)\u001b[0m\u001b[1;33m:\u001b[0m\u001b[1;33m\u001b[0m\u001b[1;33m\u001b[0m\u001b[0m\n\u001b[0;32m    551\u001b[0m         \u001b[1;32mif\u001b[0m \u001b[0mself\u001b[0m\u001b[1;33m.\u001b[0m\u001b[0mis_running\u001b[0m\u001b[1;33m(\u001b[0m\u001b[1;33m)\u001b[0m\u001b[1;33m:\u001b[0m\u001b[1;33m\u001b[0m\u001b[1;33m\u001b[0m\u001b[0m\n\u001b[1;32m--> 552\u001b[1;33m             \u001b[1;32mraise\u001b[0m \u001b[0mRuntimeError\u001b[0m\u001b[1;33m(\u001b[0m\u001b[1;34m'This event loop is already running'\u001b[0m\u001b[1;33m)\u001b[0m\u001b[1;33m\u001b[0m\u001b[1;33m\u001b[0m\u001b[0m\n\u001b[0m\u001b[0;32m    553\u001b[0m         \u001b[1;32mif\u001b[0m \u001b[0mevents\u001b[0m\u001b[1;33m.\u001b[0m\u001b[0m_get_running_loop\u001b[0m\u001b[1;33m(\u001b[0m\u001b[1;33m)\u001b[0m \u001b[1;32mis\u001b[0m \u001b[1;32mnot\u001b[0m \u001b[1;32mNone\u001b[0m\u001b[1;33m:\u001b[0m\u001b[1;33m\u001b[0m\u001b[1;33m\u001b[0m\u001b[0m\n\u001b[0;32m    554\u001b[0m             raise RuntimeError(\n",
      "\u001b[1;31mRuntimeError\u001b[0m: This event loop is already running"
     ]
    }
   ],
   "source": [
    "try:\n",
    "    await main()\n",
    "    loop = client.get_io_loop()\n",
    "    loop.run_until_complete(db_writer(GLOB_QUEUE))\n",
    "finally:\n",
    "    cleanup()"
   ]
  },
  {
   "cell_type": "code",
   "execution_count": null,
   "id": "ba4f0c60",
   "metadata": {},
   "outputs": [],
   "source": []
  },
  {
   "cell_type": "code",
   "execution_count": null,
   "id": "a35c1544",
   "metadata": {},
   "outputs": [],
   "source": []
  },
  {
   "cell_type": "code",
   "execution_count": null,
   "id": "8cb8b22d",
   "metadata": {},
   "outputs": [],
   "source": []
  },
  {
   "cell_type": "code",
   "execution_count": null,
   "id": "dfb773fb",
   "metadata": {},
   "outputs": [],
   "source": []
  },
  {
   "cell_type": "code",
   "execution_count": null,
   "id": "7055011f",
   "metadata": {},
   "outputs": [],
   "source": []
  },
  {
   "cell_type": "code",
   "execution_count": 4,
   "id": "026d45e4",
   "metadata": {},
   "outputs": [],
   "source": [
    "async def ping_server():\n",
    "    # Set the Stable API version when creating a new client\n",
    "    client = AsyncIOMotorClient(MONGODB_CONNECTION_STRING, server_api=ServerApi('1'))\n",
    "    # Send a ping to confirm a successful connection\n",
    "    try:\n",
    "        client.admin.command('ping')\n",
    "        print(\"Pinged your deployment. You successfully connected to MongoDB!\")\n",
    "    except Exception as e:\n",
    "        print(e)"
   ]
  },
  {
   "cell_type": "code",
   "execution_count": 5,
   "id": "ebab17f6",
   "metadata": {},
   "outputs": [
    {
     "name": "stdout",
     "output_type": "stream",
     "text": [
      "Pinged your deployment. You successfully connected to MongoDB!\n"
     ]
    }
   ],
   "source": [
    "await ping_server()"
   ]
  },
  {
   "cell_type": "code",
   "execution_count": null,
   "id": "b3b9e616",
   "metadata": {},
   "outputs": [],
   "source": []
  },
  {
   "cell_type": "code",
   "execution_count": null,
   "id": "7fd93f48",
   "metadata": {},
   "outputs": [],
   "source": []
  },
  {
   "cell_type": "code",
   "execution_count": null,
   "id": "9b6f47b6",
   "metadata": {},
   "outputs": [],
   "source": []
  },
  {
   "cell_type": "code",
   "execution_count": null,
   "id": "bc4de42c",
   "metadata": {},
   "outputs": [],
   "source": []
  },
  {
   "cell_type": "code",
   "execution_count": null,
   "id": "f22a73cc",
   "metadata": {},
   "outputs": [],
   "source": [
    "assert False"
   ]
  },
  {
   "cell_type": "code",
   "execution_count": 3,
   "id": "26a7999b",
   "metadata": {},
   "outputs": [],
   "source": [
    "client = MongoClient(MONGODB_CONNECTION_STRING)\n",
    "db = client[DATABASE_NAME]\n",
    "collection = db[COLLECTION_NAME]"
   ]
  },
  {
   "cell_type": "code",
   "execution_count": 4,
   "id": "51d5603b",
   "metadata": {},
   "outputs": [],
   "source": [
    "async def db_writer(queue):\n",
    "    while True:\n",
    "        record = await queue.get()\n",
    "        print(\"Write record\")\n",
    "        collection.insert_one(record)\n",
    "        queue.task_done()"
   ]
  },
  {
   "cell_type": "code",
   "execution_count": 5,
   "id": "e67bfeb5",
   "metadata": {},
   "outputs": [],
   "source": [
    "async def main():\n",
    "    data_queue = asyncio.Queue()\n",
    "\n",
    "    # Enqueue your records here\n",
    "    records = [{\"expression\": \"2 + 2\"}, {\"expression\": \"3 * 5\"}, {\"expression\": \"sqrt(16)\"}]\n",
    "    for record in records:\n",
    "        await data_queue.put(record)\n",
    "        \n",
    "        \n",
    "    await data_queue.join()"
   ]
  },
  {
   "cell_type": "code",
   "execution_count": 6,
   "id": "a44769d8",
   "metadata": {},
   "outputs": [],
   "source": [
    "def cleanup():\n",
    "    client.close()"
   ]
  },
  {
   "cell_type": "code",
   "execution_count": null,
   "id": "fa971271",
   "metadata": {},
   "outputs": [],
   "source": []
  },
  {
   "cell_type": "code",
   "execution_count": 7,
   "id": "c802ed75",
   "metadata": {
    "scrolled": true
   },
   "outputs": [],
   "source": [
    "# if __name__ == \"__main__\":\n",
    "#     try:\n",
    "#         asyncio.run(main())\n",
    "#     finally:\n",
    "#         cleanup()"
   ]
  },
  {
   "cell_type": "code",
   "execution_count": null,
   "id": "d8028772",
   "metadata": {},
   "outputs": [],
   "source": [
    "try:\n",
    "    await main()\n",
    "finally:\n",
    "    cleanup()"
   ]
  },
  {
   "cell_type": "code",
   "execution_count": 2,
   "id": "ea7ce3cd",
   "metadata": {},
   "outputs": [],
   "source": [
    "async def print_num():\n",
    "    print(\"Number!\")"
   ]
  },
  {
   "cell_type": "code",
   "execution_count": 3,
   "id": "ddb801fc",
   "metadata": {},
   "outputs": [
    {
     "name": "stdout",
     "output_type": "stream",
     "text": [
      "Number!\n"
     ]
    }
   ],
   "source": [
    "await print_num()"
   ]
  },
  {
   "cell_type": "code",
   "execution_count": null,
   "id": "3dc7c986",
   "metadata": {},
   "outputs": [],
   "source": []
  }
 ],
 "metadata": {
  "kernelspec": {
   "display_name": "Python 3 (ipykernel)",
   "language": "python",
   "name": "python3"
  },
  "language_info": {
   "codemirror_mode": {
    "name": "ipython",
    "version": 3
   },
   "file_extension": ".py",
   "mimetype": "text/x-python",
   "name": "python",
   "nbconvert_exporter": "python",
   "pygments_lexer": "ipython3",
   "version": "3.8.10"
  }
 },
 "nbformat": 4,
 "nbformat_minor": 5
}
