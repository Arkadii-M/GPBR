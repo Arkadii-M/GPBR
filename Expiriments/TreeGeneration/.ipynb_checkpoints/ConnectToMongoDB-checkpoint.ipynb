{
 "cells": [
  {
   "cell_type": "code",
   "execution_count": 1,
   "id": "b66ad39a",
   "metadata": {},
   "outputs": [],
   "source": [
    "from pymongo import MongoClient"
   ]
  },
  {
   "cell_type": "code",
   "execution_count": 2,
   "id": "4b9e0bf3",
   "metadata": {},
   "outputs": [],
   "source": [
    "# Connect to the MongoDB server\n",
    "client = MongoClient(\"mongodb://localhost:27017\")  # Replace with your MongoDB connection string"
   ]
  },
  {
   "cell_type": "code",
   "execution_count": 3,
   "id": "5ced350a",
   "metadata": {},
   "outputs": [],
   "source": [
    "# Access the desired database and collection\n",
    "db = client[\"TestExpressions\"]\n",
    "collection = db[\"Expressions\"]"
   ]
  },
  {
   "cell_type": "code",
   "execution_count": 4,
   "id": "fbc2501f",
   "metadata": {},
   "outputs": [
    {
     "data": {
      "text/plain": [
       "<pymongo.results.InsertOneResult at 0x27ef41fc600>"
      ]
     },
     "execution_count": 4,
     "metadata": {},
     "output_type": "execute_result"
    }
   ],
   "source": [
    "# Insert a new document\n",
    "new_expression = {\"expression\": \"2 + 2\"}\n",
    "collection.insert_one(new_expression)"
   ]
  },
  {
   "cell_type": "code",
   "execution_count": null,
   "id": "02d9cf9e",
   "metadata": {},
   "outputs": [],
   "source": [
    "collection.createIndex( { 'expression': 1 }, { unique: true } )"
   ]
  },
  {
   "cell_type": "code",
   "execution_count": 10,
   "id": "a68c4345",
   "metadata": {},
   "outputs": [],
   "source": [
    "# Query documents\n",
    "query_expression = \"2 + 2\"\n",
    "result = collection.find_one({\"expression\": query_expression})"
   ]
  },
  {
   "cell_type": "code",
   "execution_count": 11,
   "id": "329c44ca",
   "metadata": {},
   "outputs": [
    {
     "name": "stdout",
     "output_type": "stream",
     "text": [
      "Found: {'_id': ObjectId('64ea4465c322b8458bee2ecb'), 'expression': '2 + 2'}\n"
     ]
    }
   ],
   "source": [
    "if result:\n",
    "    print(\"Found:\", result)\n",
    "else:\n",
    "    print(\"Expression not found\")"
   ]
  },
  {
   "cell_type": "code",
   "execution_count": 12,
   "id": "75821443",
   "metadata": {},
   "outputs": [],
   "source": [
    "\n",
    "# Close the connection\n",
    "client.close()"
   ]
  },
  {
   "cell_type": "code",
   "execution_count": null,
   "id": "a0abf10f",
   "metadata": {},
   "outputs": [],
   "source": []
  }
 ],
 "metadata": {
  "kernelspec": {
   "display_name": "Python 3 (ipykernel)",
   "language": "python",
   "name": "python3"
  },
  "language_info": {
   "codemirror_mode": {
    "name": "ipython",
    "version": 3
   },
   "file_extension": ".py",
   "mimetype": "text/x-python",
   "name": "python",
   "nbconvert_exporter": "python",
   "pygments_lexer": "ipython3",
   "version": "3.8.10"
  }
 },
 "nbformat": 4,
 "nbformat_minor": 5
}
