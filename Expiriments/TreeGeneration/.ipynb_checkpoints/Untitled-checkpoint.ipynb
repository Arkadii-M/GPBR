{
 "cells": [
  {
   "cell_type": "code",
   "execution_count": 1,
   "id": "921ef62e",
   "metadata": {},
   "outputs": [],
   "source": [
    "class TreeNode:\n",
    "    def __init__(self, value, children=None):\n",
    "        self.value = value\n",
    "        self.children = children if children else []    \n",
    "    \n",
    "    @property\n",
    "    def binary(self):\n",
    "        return len(self.children) == 2\n",
    "    \n",
    "    @property\n",
    "    def unary(self):\n",
    "        return len(self.children) == 1\n",
    "    \n",
    "    @property\n",
    "    def terminal(self):\n",
    "        return len(self.children) == 0\n",
    "    \n",
    "    \n",
    "    @property\n",
    "    def first(self):\n",
    "        return self.children[0]\n",
    "    @property\n",
    "    def first_terminal(self):\n",
    "        return self.first.terminal\n",
    "    @property\n",
    "    def first_unary(self):\n",
    "        return self.first.unary\n",
    "    \n",
    "    @property\n",
    "    def second(self):\n",
    "        return self.children[1]\n",
    "    @property\n",
    "    def second_terminal(self):\n",
    "        return self.second.terminal\n",
    "    @property\n",
    "    def second_unary(self):\n",
    "        return self.second.unary"
   ]
  },
  {
   "cell_type": "code",
   "execution_count": 2,
   "id": "4e893746",
   "metadata": {},
   "outputs": [],
   "source": [
    "def tree_str(node, expr=''):\n",
    "    if node.terminal:\n",
    "        return expr + node.value\n",
    "    \n",
    "    if node.unary:\n",
    "        return f'{expr}{node.value}({tree_str(node.first)})'\n",
    "    \n",
    "    if node.binary:\n",
    "#         ret=expr\n",
    "#         ret+=tree_str(node.first) if node.first_terminal or node.first_unary else f'({tree_str(node.first)})'\n",
    "#         ret+=node.value\n",
    "#         ret+=tree_str(node.second) if node.second_terminal or node.second_unary else f'({tree_str(node.second)})'\n",
    "#         return ret\n",
    "        return f'{expr}({tree_str(node.first)}){node.value}({tree_str(node.second)})'"
   ]
  },
  {
   "cell_type": "code",
   "execution_count": 3,
   "id": "7f7285ba",
   "metadata": {},
   "outputs": [],
   "source": [
    "def generate_trees(binary_operators, unary_operators, max_height):\n",
    "    if max_height == 0:\n",
    "        yield TreeNode(\"T\")\n",
    "        return\n",
    "    \n",
    "    for operator in unary_operators:\n",
    "        for child_tree in generate_trees(binary_operators, unary_operators, max_height - 1):\n",
    "            yield TreeNode(operator, [child_tree])\n",
    "    \n",
    "    for operator in binary_operators:\n",
    "        for left_tree in generate_trees(binary_operators, unary_operators, max_height - 1):\n",
    "            for right_tree in generate_trees(binary_operators, unary_operators, max_height - 1):\n",
    "                yield TreeNode(operator, [left_tree, right_tree])"
   ]
  },
  {
   "cell_type": "code",
   "execution_count": 12,
   "id": "aa3134da",
   "metadata": {},
   "outputs": [],
   "source": [
    "binary_operators = [\"+\", \"-\", \"*\", \"/\"]\n",
    "unary_operators = [\"sin\", \"cos\",\"sqrt\"]\n",
    "max_height = 2\n",
    "\n",
    "tree_generator = generate_trees(binary_operators, unary_operators, max_height)"
   ]
  },
  {
   "cell_type": "code",
   "execution_count": 13,
   "id": "65aa97e9",
   "metadata": {},
   "outputs": [],
   "source": [
    "all_trees=list(tree_generator)"
   ]
  },
  {
   "cell_type": "code",
   "execution_count": 14,
   "id": "8536ec39",
   "metadata": {},
   "outputs": [
    {
     "data": {
      "text/plain": [
       "217"
      ]
     },
     "execution_count": 14,
     "metadata": {},
     "output_type": "execute_result"
    }
   ],
   "source": [
    "len(all_trees)"
   ]
  },
  {
   "cell_type": "code",
   "execution_count": 15,
   "id": "6cfad494",
   "metadata": {},
   "outputs": [
    {
     "name": "stdout",
     "output_type": "stream",
     "text": [
      "sin(sin(T))\n",
      "sin(cos(T))\n",
      "sin(sqrt(T))\n",
      "sin(T+T)\n",
      "sin(T-T)\n",
      "sin(T*T)\n",
      "sin(T/T)\n",
      "cos(sin(T))\n",
      "cos(cos(T))\n",
      "cos(sqrt(T))\n",
      "cos(T+T)\n",
      "cos(T-T)\n",
      "cos(T*T)\n",
      "cos(T/T)\n",
      "sqrt(sin(T))\n",
      "sqrt(cos(T))\n",
      "sqrt(sqrt(T))\n",
      "sqrt(T+T)\n",
      "sqrt(T-T)\n",
      "sqrt(T*T)\n",
      "sqrt(T/T)\n",
      "sin(T)+sin(T)\n",
      "sin(T)+cos(T)\n",
      "sin(T)+sqrt(T)\n",
      "sin(T)+(T+T)\n",
      "sin(T)+(T-T)\n",
      "sin(T)+(T*T)\n",
      "sin(T)+(T/T)\n",
      "cos(T)+sin(T)\n",
      "cos(T)+cos(T)\n",
      "cos(T)+sqrt(T)\n",
      "cos(T)+(T+T)\n",
      "cos(T)+(T-T)\n",
      "cos(T)+(T*T)\n",
      "cos(T)+(T/T)\n",
      "sqrt(T)+sin(T)\n",
      "sqrt(T)+cos(T)\n",
      "sqrt(T)+sqrt(T)\n",
      "sqrt(T)+(T+T)\n",
      "sqrt(T)+(T-T)\n",
      "sqrt(T)+(T*T)\n",
      "sqrt(T)+(T/T)\n",
      "(T+T)+sin(T)\n",
      "(T+T)+cos(T)\n",
      "(T+T)+sqrt(T)\n",
      "(T+T)+(T+T)\n",
      "(T+T)+(T-T)\n",
      "(T+T)+(T*T)\n",
      "(T+T)+(T/T)\n",
      "(T-T)+sin(T)\n",
      "(T-T)+cos(T)\n",
      "(T-T)+sqrt(T)\n",
      "(T-T)+(T+T)\n",
      "(T-T)+(T-T)\n",
      "(T-T)+(T*T)\n",
      "(T-T)+(T/T)\n",
      "(T*T)+sin(T)\n",
      "(T*T)+cos(T)\n",
      "(T*T)+sqrt(T)\n",
      "(T*T)+(T+T)\n",
      "(T*T)+(T-T)\n",
      "(T*T)+(T*T)\n",
      "(T*T)+(T/T)\n",
      "(T/T)+sin(T)\n",
      "(T/T)+cos(T)\n",
      "(T/T)+sqrt(T)\n",
      "(T/T)+(T+T)\n",
      "(T/T)+(T-T)\n",
      "(T/T)+(T*T)\n",
      "(T/T)+(T/T)\n",
      "sin(T)-sin(T)\n",
      "sin(T)-cos(T)\n",
      "sin(T)-sqrt(T)\n",
      "sin(T)-(T+T)\n",
      "sin(T)-(T-T)\n",
      "sin(T)-(T*T)\n",
      "sin(T)-(T/T)\n",
      "cos(T)-sin(T)\n",
      "cos(T)-cos(T)\n",
      "cos(T)-sqrt(T)\n",
      "cos(T)-(T+T)\n",
      "cos(T)-(T-T)\n",
      "cos(T)-(T*T)\n",
      "cos(T)-(T/T)\n",
      "sqrt(T)-sin(T)\n",
      "sqrt(T)-cos(T)\n",
      "sqrt(T)-sqrt(T)\n",
      "sqrt(T)-(T+T)\n",
      "sqrt(T)-(T-T)\n",
      "sqrt(T)-(T*T)\n",
      "sqrt(T)-(T/T)\n",
      "(T+T)-sin(T)\n",
      "(T+T)-cos(T)\n",
      "(T+T)-sqrt(T)\n",
      "(T+T)-(T+T)\n",
      "(T+T)-(T-T)\n",
      "(T+T)-(T*T)\n",
      "(T+T)-(T/T)\n",
      "(T-T)-sin(T)\n",
      "(T-T)-cos(T)\n",
      "(T-T)-sqrt(T)\n",
      "(T-T)-(T+T)\n",
      "(T-T)-(T-T)\n",
      "(T-T)-(T*T)\n",
      "(T-T)-(T/T)\n",
      "(T*T)-sin(T)\n",
      "(T*T)-cos(T)\n",
      "(T*T)-sqrt(T)\n",
      "(T*T)-(T+T)\n",
      "(T*T)-(T-T)\n",
      "(T*T)-(T*T)\n",
      "(T*T)-(T/T)\n",
      "(T/T)-sin(T)\n",
      "(T/T)-cos(T)\n",
      "(T/T)-sqrt(T)\n",
      "(T/T)-(T+T)\n",
      "(T/T)-(T-T)\n",
      "(T/T)-(T*T)\n",
      "(T/T)-(T/T)\n",
      "sin(T)*sin(T)\n",
      "sin(T)*cos(T)\n",
      "sin(T)*sqrt(T)\n",
      "sin(T)*(T+T)\n",
      "sin(T)*(T-T)\n",
      "sin(T)*(T*T)\n",
      "sin(T)*(T/T)\n",
      "cos(T)*sin(T)\n",
      "cos(T)*cos(T)\n",
      "cos(T)*sqrt(T)\n",
      "cos(T)*(T+T)\n",
      "cos(T)*(T-T)\n",
      "cos(T)*(T*T)\n",
      "cos(T)*(T/T)\n",
      "sqrt(T)*sin(T)\n",
      "sqrt(T)*cos(T)\n",
      "sqrt(T)*sqrt(T)\n",
      "sqrt(T)*(T+T)\n",
      "sqrt(T)*(T-T)\n",
      "sqrt(T)*(T*T)\n",
      "sqrt(T)*(T/T)\n",
      "(T+T)*sin(T)\n",
      "(T+T)*cos(T)\n",
      "(T+T)*sqrt(T)\n",
      "(T+T)*(T+T)\n",
      "(T+T)*(T-T)\n",
      "(T+T)*(T*T)\n",
      "(T+T)*(T/T)\n",
      "(T-T)*sin(T)\n",
      "(T-T)*cos(T)\n",
      "(T-T)*sqrt(T)\n",
      "(T-T)*(T+T)\n",
      "(T-T)*(T-T)\n",
      "(T-T)*(T*T)\n",
      "(T-T)*(T/T)\n",
      "(T*T)*sin(T)\n",
      "(T*T)*cos(T)\n",
      "(T*T)*sqrt(T)\n",
      "(T*T)*(T+T)\n",
      "(T*T)*(T-T)\n",
      "(T*T)*(T*T)\n",
      "(T*T)*(T/T)\n",
      "(T/T)*sin(T)\n",
      "(T/T)*cos(T)\n",
      "(T/T)*sqrt(T)\n",
      "(T/T)*(T+T)\n",
      "(T/T)*(T-T)\n",
      "(T/T)*(T*T)\n",
      "(T/T)*(T/T)\n",
      "sin(T)/sin(T)\n",
      "sin(T)/cos(T)\n",
      "sin(T)/sqrt(T)\n",
      "sin(T)/(T+T)\n",
      "sin(T)/(T-T)\n",
      "sin(T)/(T*T)\n",
      "sin(T)/(T/T)\n",
      "cos(T)/sin(T)\n",
      "cos(T)/cos(T)\n",
      "cos(T)/sqrt(T)\n",
      "cos(T)/(T+T)\n",
      "cos(T)/(T-T)\n",
      "cos(T)/(T*T)\n",
      "cos(T)/(T/T)\n",
      "sqrt(T)/sin(T)\n",
      "sqrt(T)/cos(T)\n",
      "sqrt(T)/sqrt(T)\n",
      "sqrt(T)/(T+T)\n",
      "sqrt(T)/(T-T)\n",
      "sqrt(T)/(T*T)\n",
      "sqrt(T)/(T/T)\n",
      "(T+T)/sin(T)\n",
      "(T+T)/cos(T)\n",
      "(T+T)/sqrt(T)\n",
      "(T+T)/(T+T)\n",
      "(T+T)/(T-T)\n",
      "(T+T)/(T*T)\n",
      "(T+T)/(T/T)\n",
      "(T-T)/sin(T)\n",
      "(T-T)/cos(T)\n",
      "(T-T)/sqrt(T)\n",
      "(T-T)/(T+T)\n",
      "(T-T)/(T-T)\n",
      "(T-T)/(T*T)\n",
      "(T-T)/(T/T)\n",
      "(T*T)/sin(T)\n",
      "(T*T)/cos(T)\n",
      "(T*T)/sqrt(T)\n",
      "(T*T)/(T+T)\n",
      "(T*T)/(T-T)\n",
      "(T*T)/(T*T)\n",
      "(T*T)/(T/T)\n",
      "(T/T)/sin(T)\n",
      "(T/T)/cos(T)\n",
      "(T/T)/sqrt(T)\n",
      "(T/T)/(T+T)\n",
      "(T/T)/(T-T)\n",
      "(T/T)/(T*T)\n",
      "(T/T)/(T/T)\n"
     ]
    }
   ],
   "source": [
    "for t in all_trees:\n",
    "    print(tree_str(t))"
   ]
  },
  {
   "cell_type": "code",
   "execution_count": 6,
   "id": "6185d300",
   "metadata": {},
   "outputs": [
    {
     "data": {
      "text/plain": [
       "97656"
      ]
     },
     "execution_count": 6,
     "metadata": {},
     "output_type": "execute_result"
    }
   ],
   "source": [
    "len(all_trees)"
   ]
  },
  {
   "cell_type": "code",
   "execution_count": 7,
   "id": "2f670631",
   "metadata": {
    "scrolled": true
   },
   "outputs": [],
   "source": [
    "for t in tree_generator:\n",
    "    print(tree_str(t))"
   ]
  },
  {
   "cell_type": "code",
   "execution_count": null,
   "id": "63055b10",
   "metadata": {},
   "outputs": [],
   "source": []
  },
  {
   "cell_type": "code",
   "execution_count": null,
   "id": "5220c40f",
   "metadata": {},
   "outputs": [],
   "source": []
  },
  {
   "cell_type": "code",
   "execution_count": null,
   "id": "9b96b565",
   "metadata": {},
   "outputs": [],
   "source": []
  },
  {
   "cell_type": "code",
   "execution_count": null,
   "id": "437687b6",
   "metadata": {},
   "outputs": [],
   "source": []
  },
  {
   "cell_type": "code",
   "execution_count": null,
   "id": "589838ef",
   "metadata": {},
   "outputs": [],
   "source": []
  },
  {
   "cell_type": "code",
   "execution_count": null,
   "id": "7910bb05",
   "metadata": {},
   "outputs": [],
   "source": [
    "def expr_perm(binary_op, unary_op, terminal_symbol, max_depth, curr_expr='', curr_depth=0):\n",
    "    if curr_depth >= max_depth:\n",
    "        return [curr_expr]\n",
    "    \n",
    "    if curr_expr == '':\n",
    "        \n",
    "    "
   ]
  },
  {
   "cell_type": "code",
   "execution_count": null,
   "id": "484c7d87",
   "metadata": {},
   "outputs": [],
   "source": []
  },
  {
   "cell_type": "code",
   "execution_count": null,
   "id": "ee0ea9c1",
   "metadata": {},
   "outputs": [],
   "source": [
    "def gen_all(nums, max_h, curr_str='', curr_h=0):\n",
    "    if curr_h >= max_h:\n",
    "        return [curr_str]\n",
    "    \n",
    "    res = []\n",
    "    for i,num in enumerate(nums):\n",
    "        res.extend(\n",
    "            gen_all(\n",
    "                nums,\n",
    "                max_h,\n",
    "                curr_str+str(num),\n",
    "                curr_h+1))\n",
    "    return res"
   ]
  },
  {
   "cell_type": "code",
   "execution_count": null,
   "id": "0e258292",
   "metadata": {},
   "outputs": [],
   "source": [
    "nums = [1,2,3,4,5]"
   ]
  },
  {
   "cell_type": "code",
   "execution_count": null,
   "id": "56aa7453",
   "metadata": {},
   "outputs": [],
   "source": [
    "len(gen_all(nums, 4))"
   ]
  },
  {
   "cell_type": "code",
   "execution_count": null,
   "id": "f0f44b48",
   "metadata": {},
   "outputs": [],
   "source": [
    "gen_all(nums, 4)"
   ]
  },
  {
   "cell_type": "code",
   "execution_count": null,
   "id": "45fd322a",
   "metadata": {},
   "outputs": [],
   "source": [
    "for n in gen_nums(nums):\n",
    "    print(n)"
   ]
  },
  {
   "cell_type": "code",
   "execution_count": null,
   "id": "71d29556",
   "metadata": {},
   "outputs": [],
   "source": [
    "for n in nums_permutations('',nums):\n",
    "    print(n)"
   ]
  },
  {
   "cell_type": "code",
   "execution_count": null,
   "id": "859a9a6a",
   "metadata": {},
   "outputs": [],
   "source": []
  },
  {
   "cell_type": "code",
   "execution_count": null,
   "id": "65dc55ef",
   "metadata": {},
   "outputs": [],
   "source": []
  },
  {
   "cell_type": "code",
   "execution_count": null,
   "id": "2df1155d",
   "metadata": {},
   "outputs": [],
   "source": []
  },
  {
   "cell_type": "code",
   "execution_count": null,
   "id": "c8622818",
   "metadata": {},
   "outputs": [],
   "source": [
    "def nums_permutations(curr, nums):\n",
    "    if len(nums) == 0:\n",
    "        print(f'len(nums)==0, curr: {curr}')\n",
    "    \n",
    "    for i,num in enumerate(nums):\n",
    "        print(f'i: {i}, num: {curr}')"
   ]
  },
  {
   "cell_type": "code",
   "execution_count": null,
   "id": "8ffc86a0",
   "metadata": {},
   "outputs": [],
   "source": []
  },
  {
   "cell_type": "code",
   "execution_count": null,
   "id": "777c8e2a",
   "metadata": {},
   "outputs": [],
   "source": []
  },
  {
   "cell_type": "code",
   "execution_count": null,
   "id": "2fc49f9c",
   "metadata": {},
   "outputs": [],
   "source": [
    "def all_nums(nums):\n",
    "    if len(nums) == 1:\n",
    "        return nums\n",
    "    \n",
    "    for i,num in enumerate(nums):\n",
    "        yield list(all_nums(nums[i+1:]))"
   ]
  },
  {
   "cell_type": "code",
   "execution_count": null,
   "id": "b80741d3",
   "metadata": {},
   "outputs": [],
   "source": [
    "for n in all_nums(nums):\n",
    "    print(n)"
   ]
  },
  {
   "cell_type": "code",
   "execution_count": null,
   "id": "801c1e9e",
   "metadata": {},
   "outputs": [],
   "source": [
    "print(*nums)"
   ]
  },
  {
   "cell_type": "code",
   "execution_count": null,
   "id": "ac3cbef0",
   "metadata": {},
   "outputs": [],
   "source": [
    "nums[1:]"
   ]
  },
  {
   "cell_type": "code",
   "execution_count": null,
   "id": "7a8305a9",
   "metadata": {},
   "outputs": [],
   "source": [
    "def one_two_three():\n",
    "    for i in range(1,4):\n",
    "        yield i"
   ]
  },
  {
   "cell_type": "code",
   "execution_count": null,
   "id": "7438de3d",
   "metadata": {},
   "outputs": [],
   "source": [
    "gen = one_two_three()"
   ]
  },
  {
   "cell_type": "code",
   "execution_count": null,
   "id": "948feac8",
   "metadata": {},
   "outputs": [],
   "source": [
    "list(gen)"
   ]
  },
  {
   "cell_type": "code",
   "execution_count": null,
   "id": "909a466a",
   "metadata": {},
   "outputs": [],
   "source": []
  },
  {
   "cell_type": "code",
   "execution_count": null,
   "id": "5b65dd86",
   "metadata": {},
   "outputs": [],
   "source": []
  },
  {
   "cell_type": "code",
   "execution_count": null,
   "id": "0aeddbd2",
   "metadata": {},
   "outputs": [],
   "source": []
  },
  {
   "cell_type": "code",
   "execution_count": null,
   "id": "e95f7109",
   "metadata": {},
   "outputs": [],
   "source": []
  },
  {
   "cell_type": "code",
   "execution_count": null,
   "id": "3f96fb13",
   "metadata": {},
   "outputs": [],
   "source": [
    "def recursive_permutations(max_depth, nums, curr_depth):\n",
    "    if curr >= max_depth:\n",
    "        return '-1'\n",
    "    \n",
    "    \n",
    "    for num in nums:\n",
    "        yield nums\n",
    "    "
   ]
  },
  {
   "cell_type": "code",
   "execution_count": null,
   "id": "5097946b",
   "metadata": {},
   "outputs": [],
   "source": []
  },
  {
   "cell_type": "code",
   "execution_count": null,
   "id": "adcb6514",
   "metadata": {},
   "outputs": [],
   "source": [
    "def gen_tree(unary_op, binary_op, terminal_symbol ):\n",
    "    pass"
   ]
  },
  {
   "cell_type": "code",
   "execution_count": null,
   "id": "842e0df3",
   "metadata": {},
   "outputs": [],
   "source": []
  }
 ],
 "metadata": {
  "kernelspec": {
   "display_name": "Python 3.8 (Deap)",
   "language": "python",
   "name": "deap_env"
  },
  "language_info": {
   "codemirror_mode": {
    "name": "ipython",
    "version": 3
   },
   "file_extension": ".py",
   "mimetype": "text/x-python",
   "name": "python",
   "nbconvert_exporter": "python",
   "pygments_lexer": "ipython3",
   "version": "3.8.10"
  }
 },
 "nbformat": 4,
 "nbformat_minor": 5
}
