{
 "cells": [
  {
   "cell_type": "code",
   "execution_count": 1,
   "id": "4106f005",
   "metadata": {},
   "outputs": [],
   "source": [
    "def gen_trees(binary_op, unary_op, terminal, prev):\n",
    "    for u_op in unary_op:\n",
    "        for el in prev:\n",
    "            yield [u_op,*el]\n",
    "    \n",
    "    for b_op in binary_op:\n",
    "        # Terminal - prev\n",
    "        # Prev - terminal\n",
    "        # Prev - prev\n",
    "        for el1 in prev:\n",
    "            yield [b_op,terminal,*el1]\n",
    "            yield [b_op,*el1,terminal]\n",
    "            for el2 in prev:\n",
    "                yield [b_op,*el1,*el2]"
   ]
  },
  {
   "cell_type": "code",
   "execution_count": 2,
   "id": "e2392ee3",
   "metadata": {},
   "outputs": [],
   "source": [
    "# def gen_trees(binary_op, unary_op, terminal, prev):\n",
    "#     res=[]\n",
    "#     for u_op in unary_op:\n",
    "#         for el in prev:\n",
    "#             res.append([u_op,*el])\n",
    "    \n",
    "#     for b_op in binary_op:\n",
    "#         # Terminal - prev\n",
    "#         # Prev - terminal\n",
    "#         # Prev - prev\n",
    "#         for el1 in prev:\n",
    "#             res.append([b_op,terminal,*el1])\n",
    "#             res.append([b_op,*el1,terminal])\n",
    "#             for el2 in prev:\n",
    "#                 res.append([b_op,*el1,*el2])\n",
    "#     return res"
   ]
  },
  {
   "cell_type": "code",
   "execution_count": 3,
   "id": "bfb90fbb",
   "metadata": {},
   "outputs": [],
   "source": [
    "binary_operators = [\"+\", \"-\", \"*\", \"/\"]\n",
    "unary_operators = [\"sin\", \"cos\",\"sqrt\"]"
   ]
  },
  {
   "cell_type": "code",
   "execution_count": 4,
   "id": "9ba48aea",
   "metadata": {},
   "outputs": [],
   "source": [
    "level_1 = [\n",
    "    ['sin', 'T'],\n",
    "    ['cos', 'T'],\n",
    "    ['sqrt', 'T'],\n",
    "    ['+', 'T', 'T'],\n",
    "    ['-', 'T', 'T'],\n",
    "    ['*', 'T', 'T'],\n",
    "    ['/', 'T', 'T'],    \n",
    "]"
   ]
  },
  {
   "cell_type": "code",
   "execution_count": 5,
   "id": "b16f9d84",
   "metadata": {},
   "outputs": [],
   "source": [
    "def get_arity(func):\n",
    "    if func == 'T':\n",
    "        return 0\n",
    "    if func in [\"sin\", \"cos\",\"sqrt\"]:\n",
    "        return 1\n",
    "    return 2"
   ]
  },
  {
   "cell_type": "code",
   "execution_count": 6,
   "id": "0f8af049",
   "metadata": {},
   "outputs": [],
   "source": [
    "def format_expr(prim, args):\n",
    "    if get_arity(prim) == 0:\n",
    "        return prim\n",
    "    if get_arity(prim) == 1:\n",
    "        return f'{prim}({args[0]})'\n",
    "    if get_arity(prim) == 2:\n",
    "        return f'({args[0]}){prim}({args[1]})'"
   ]
  },
  {
   "cell_type": "code",
   "execution_count": 7,
   "id": "8dd818f0",
   "metadata": {},
   "outputs": [],
   "source": [
    "def tree_to_str(tree):\n",
    "    string = \"\"\n",
    "    stack = []\n",
    "    for node in tree:\n",
    "        stack.append((node, []))\n",
    "        while len(stack[-1][1]) == get_arity(stack[-1][0]):\n",
    "            prim, args = stack.pop()\n",
    "            string = format_expr(prim,args)\n",
    "#             string = prim.format(*args)\n",
    "#             print(f'string: {string}, args: {args}',)\n",
    "            if len(stack) == 0:\n",
    "                break  # If stack is empty, all nodes should have been seen\n",
    "            stack[-1][1].append(string)\n",
    "\n",
    "    return string"
   ]
  },
  {
   "cell_type": "code",
   "execution_count": 8,
   "id": "cdb6058b",
   "metadata": {},
   "outputs": [],
   "source": [
    "level_2_gen = gen_trees(binary_operators, unary_operators, 'T', level_1)"
   ]
  },
  {
   "cell_type": "code",
   "execution_count": 9,
   "id": "d5bffcee",
   "metadata": {},
   "outputs": [],
   "source": [
    "level_2_trees = [t for t in level_2_gen]"
   ]
  },
  {
   "cell_type": "code",
   "execution_count": 10,
   "id": "2574d0f2",
   "metadata": {},
   "outputs": [
    {
     "data": {
      "text/plain": [
       "273"
      ]
     },
     "execution_count": 10,
     "metadata": {},
     "output_type": "execute_result"
    }
   ],
   "source": [
    "len(level_2_trees)"
   ]
  },
  {
   "cell_type": "code",
   "execution_count": 11,
   "id": "94e871a0",
   "metadata": {},
   "outputs": [],
   "source": [
    "# level_2_str = [tree_to_str(t) for t in level_2]"
   ]
  },
  {
   "cell_type": "code",
   "execution_count": 12,
   "id": "604987f0",
   "metadata": {},
   "outputs": [],
   "source": [
    "level_2_gen = gen_trees(binary_operators, unary_operators, 'T', level_1)\n",
    "level_2_trees = [t for t in level_2_gen]"
   ]
  },
  {
   "cell_type": "code",
   "execution_count": 13,
   "id": "6cb8e236",
   "metadata": {},
   "outputs": [],
   "source": [
    "level_3_gen = gen_trees(binary_operators, unary_operators, 'T', level_2_trees)"
   ]
  },
  {
   "cell_type": "code",
   "execution_count": 14,
   "id": "927bee1b",
   "metadata": {},
   "outputs": [],
   "source": [
    "level_3_trees = [t for t in level_3_gen]"
   ]
  },
  {
   "cell_type": "code",
   "execution_count": 15,
   "id": "6b6c2033",
   "metadata": {},
   "outputs": [
    {
     "data": {
      "text/plain": [
       "301119"
      ]
     },
     "execution_count": 15,
     "metadata": {},
     "output_type": "execute_result"
    }
   ],
   "source": [
    "len(level_3_trees)"
   ]
  },
  {
   "cell_type": "code",
   "execution_count": 22,
   "id": "dba004de",
   "metadata": {},
   "outputs": [],
   "source": [
    "level_4_gen = gen_trees(binary_operators, unary_operators, 'T', level_3_trees)"
   ]
  },
  {
   "cell_type": "code",
   "execution_count": null,
   "id": "f6fc8a72",
   "metadata": {},
   "outputs": [],
   "source": [
    "level_4_trees = [t for t in level_4_gen]"
   ]
  },
  {
   "cell_type": "code",
   "execution_count": 2,
   "id": "6473c8a7",
   "metadata": {},
   "outputs": [
    {
     "data": {
      "text/plain": [
       "\"['sin', 'T']\""
      ]
     },
     "execution_count": 2,
     "metadata": {},
     "output_type": "execute_result"
    }
   ],
   "source": [
    "str(['sin', 'T'])"
   ]
  },
  {
   "cell_type": "code",
   "execution_count": null,
   "id": "b0a6f1e4",
   "metadata": {},
   "outputs": [],
   "source": []
  }
 ],
 "metadata": {
  "kernelspec": {
   "display_name": "Python 3.8 (Deap)",
   "language": "python",
   "name": "deap_env"
  },
  "language_info": {
   "codemirror_mode": {
    "name": "ipython",
    "version": 3
   },
   "file_extension": ".py",
   "mimetype": "text/x-python",
   "name": "python",
   "nbconvert_exporter": "python",
   "pygments_lexer": "ipython3",
   "version": "3.8.10"
  }
 },
 "nbformat": 4,
 "nbformat_minor": 5
}
